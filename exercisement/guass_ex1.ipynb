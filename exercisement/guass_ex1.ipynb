{
 "cells": [
  {
   "cell_type": "code",
   "execution_count": 4,
   "metadata": {},
   "outputs": [
    {
     "name": "stdout",
     "output_type": "stream",
     "text": [
      "a:\n",
      " [[ 1  2  1 -7]\n",
      " [ 2 -2 -2  8]\n",
      " [-1  3  4 -8]]\n",
      "\n",
      "a R2 + R1 -> R2:\n",
      " [[ 1  2  1 -7]\n",
      " [ 0 -6 -4 22]\n",
      " [-1  3  4 -8]]\n",
      "\n",
      "a R3 + R1 -> R3:\n",
      " [[  1   2   1  -7]\n",
      " [  0  -6  -4  22]\n",
      " [  0   5   5 -15]]\n",
      "\n",
      "a R2 + R1 -> R2:\n",
      " [[  1   2   1  -7]\n",
      " [  0  -1   1   7]\n",
      " [  0   5   5 -15]]\n",
      "\n",
      "a R3 -> R3:\n",
      " [[  1   2   1  -7]\n",
      " [  0   1  -1  -7]\n",
      " [  0   5   5 -15]]\n",
      "\n",
      "a R3 + R2 -> R3:\n",
      " [[ 1  2  1 -7]\n",
      " [ 0  1 -1 -7]\n",
      " [ 0  0 10 20]]\n",
      "\n",
      "a R3 -> R3:\n",
      " [[ 1  2  1 -7]\n",
      " [ 0  1 -1 -7]\n",
      " [ 0  0  1  2]]\n",
      "\n"
     ]
    }
   ],
   "source": [
    "import numpy as np\n",
    "a = np.array([\n",
    "    [1, 2, 1, -7],\n",
    "    [2, -2, -2, 8],\n",
    "    [-1, 3, 4, -8]\n",
    "])\n",
    "print(f\"a:\\n {a}\\n\")\n",
    "\n",
    "# a[[1]] = a[[1]] * (1/2)\n",
    "# print(f\"a (1/2)R2:\\n {a}\\n\")\n",
    "\n",
    "# a[[1]] = a[[1]] + a[[0]]\n",
    "# print(f\"a R2 + R1 -> R2:\\n {a}\\n\")\n",
    "\n",
    "a[[1]] = a[[1]] + (a[[0]] * -2)\n",
    "print(f\"a R2 + R1 -> R2:\\n {a}\\n\")\n",
    "\n",
    "a[[2]] = a[[2]] + a[[0]]\n",
    "print(f\"a R3 + R1 -> R3:\\n {a}\\n\")\n",
    "\n",
    "a[[1]] = a[[2]] + a[[1]]\n",
    "print(f\"a R2 + R1 -> R2:\\n {a}\\n\")\n",
    "\n",
    "a[[1]] = a[[1]] * -1\n",
    "print(f\"a R3 -> R3:\\n {a}\\n\")\n",
    "\n",
    "a[[2]] = a[[2]] + (a[[1]] * -5)\n",
    "print(f\"a R3 + R2 -> R3:\\n {a}\\n\")\n",
    "\n",
    "a[[2]] = a[[2]] * (1/10)\n",
    "print(f\"a R3 -> R3:\\n {a}\\n\")"
   ]
  },
  {
   "cell_type": "code",
   "execution_count": 6,
   "metadata": {},
   "outputs": [
    {
     "name": "stdout",
     "output_type": "stream",
     "text": [
      "result ordered:\n",
      " [[ 1  2  1]\n",
      " [ 0  1 -1]\n",
      " [ 0  0  1]] \n",
      " [[-7]\n",
      " [-7]\n",
      " [ 2]]\n",
      "--j\n",
      "[[ 1  2  2]\n",
      " [ 0  1 -2]\n",
      " [ 0  0  2]]\n",
      "--j\n",
      "[[  1 -10   2]\n",
      " [  0  -5  -2]\n",
      " [  0   0   2]]\n",
      "--j\n",
      "[[  1 -10   2]\n",
      " [  0  -5  -2]\n",
      " [  0   0   2]]\n",
      "[ 1 -5  2]\n"
     ]
    }
   ],
   "source": [
    "aam_m, aam_n = np.split(a, [3], axis=1)\n",
    "print(\"result ordered:\\n\", aam_m, \"\\n\", aam_n)\n",
    "\n",
    "aam_cram = aam_m.copy()\n",
    "aam_i = aam_n.flatten()\n",
    "\n",
    "aam_result = np.zeros(aam_cram.shape[1], dtype=int)\n",
    "for i in range(aam_cram.shape[1] - 1, -1, -1):\n",
    "    print('--j')\n",
    "    aam_result[i] = aam_i[i] - np.sum(aam_cram[i, i+1:])\n",
    "    aam_cram[:, i] = aam_cram[:, i] * aam_result[i]\n",
    "    print(aam_cram)\n",
    "\n",
    "print(aam_result)"
   ]
  },
  {
   "cell_type": "code",
   "execution_count": 49,
   "metadata": {},
   "outputs": [
    {
     "name": "stdout",
     "output_type": "stream",
     "text": [
      "b (1/3)R1:\n",
      "[[  1   0  -3   2]\n",
      " [  0   1   7 -11]\n",
      " [  2   2   1  -4]]\n",
      "\n",
      "b (1/3)R2:\n",
      "[[  1   0  -3   2]\n",
      " [  0   1   7 -11]\n",
      " [  1   2   4  -6]]\n",
      "\n",
      "b (1/3)R3:\n",
      "[[  1   0  -3   2]\n",
      " [  0   1   7 -11]\n",
      " [  1   0 -10  16]]\n",
      "\n",
      "b (1/3)R4:\n",
      "[[  1   0  -3   2]\n",
      " [  0   1   7 -11]\n",
      " [  0   0  -7  14]]\n",
      "\n",
      "b (1/3)R4 -> R4:\n",
      "[[  1   0  -3   2]\n",
      " [  0   1   7 -11]\n",
      " [  0   0   1  -2]]\n",
      "\n"
     ]
    }
   ],
   "source": [
    "b = np.array([\n",
    "    [1, 0, -3, 2],\n",
    "    [3, 1, -2, -5],\n",
    "    [2, 2, 1, -4]\n",
    "])\n",
    "\n",
    "\n",
    "b[[1]] = b[[1]] + (b[[0]] * -3)\n",
    "print(f\"b (1/3)R1:\\n{b}\\n\")\n",
    "\n",
    "b[[2]] = b[[2]] + (b[[0]] * -1)\n",
    "print(f\"b (1/3)R2:\\n{b}\\n\")\n",
    "\n",
    "b[[2]] = b[[2]] + (b[[1]] * -2)\n",
    "print(f\"b (1/3)R3:\\n{b}\\n\")\n",
    "\n",
    "b[[2]] = b[[2]] + (b[[0]] * -1)\n",
    "print(f\"b (1/3)R4:\\n{b}\\n\")\n",
    "\n",
    "b[[2]] = b[[2]] * (-1/7)\n",
    "print(f\"b (1/3)R4 -> R4:\\n{b}\\n\")"
   ]
  },
  {
   "cell_type": "code",
   "execution_count": 50,
   "metadata": {},
   "outputs": [
    {
     "name": "stdout",
     "output_type": "stream",
     "text": [
      "result ordered:\n",
      " [[ 1  0 -3]\n",
      " [ 0  1  7]\n",
      " [ 0  0  1]] \n",
      " [[  2]\n",
      " [-11]\n",
      " [ -2]]\n",
      "--j\n",
      "[[  1   0   6]\n",
      " [  0   1 -14]\n",
      " [  0   0  -2]]\n",
      "--j\n",
      "[[  1   0   6]\n",
      " [  0   3 -14]\n",
      " [  0   0  -2]]\n",
      "--j\n",
      "[[ -4   0   6]\n",
      " [  0   3 -14]\n",
      " [  0   0  -2]]\n",
      "[-4  3 -2]\n"
     ]
    }
   ],
   "source": [
    "aam_m, aam_n = np.split(b, [3], axis=1)\n",
    "print(\"result ordered:\\n\", aam_m, \"\\n\", aam_n)\n",
    "\n",
    "aam_cram = aam_m.copy()\n",
    "aam_i = aam_n.flatten()\n",
    "\n",
    "aam_result = np.zeros(aam_cram.shape[1], dtype=int)\n",
    "for i in range(aam_cram.shape[1] - 1, -1, -1):\n",
    "    print('--j')\n",
    "    aam_result[i] = aam_i[i] - np.sum(aam_cram[i, i+1:])\n",
    "    aam_cram[:, i] = aam_cram[:, i] * aam_result[i]\n",
    "    print(aam_cram)\n",
    "\n",
    "print(aam_result)"
   ]
  },
  {
   "cell_type": "code",
   "execution_count": 7,
   "metadata": {},
   "outputs": [],
   "source": [
    "import logging\n",
    "\n",
    "logging.basicConfig(level=logging.INFO)\n",
    "logging.info('This is a debug message')"
   ]
  }
 ],
 "metadata": {
  "kernelspec": {
   "display_name": "Python 3",
   "language": "python",
   "name": "python3"
  },
  "language_info": {
   "codemirror_mode": {
    "name": "ipython",
    "version": 3
   },
   "file_extension": ".py",
   "mimetype": "text/x-python",
   "name": "python",
   "nbconvert_exporter": "python",
   "pygments_lexer": "ipython3",
   "version": "3.12.1"
  }
 },
 "nbformat": 4,
 "nbformat_minor": 2
}
