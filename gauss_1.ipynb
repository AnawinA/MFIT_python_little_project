{
 "cells": [
  {
   "cell_type": "markdown",
   "metadata": {},
   "source": [
    "# Gauss-Jordan Elimination\n",
    "## Elementary Row Operations"
   ]
  },
  {
   "cell_type": "code",
   "execution_count": 3,
   "metadata": {},
   "outputs": [],
   "source": [
    "import numpy as np"
   ]
  },
  {
   "cell_type": "code",
   "execution_count": 20,
   "metadata": {},
   "outputs": [
    {
     "name": "stdout",
     "output_type": "stream",
     "text": [
      "a:\n",
      "[[ 0  1  3  4]\n",
      " [-1  2  0  3]\n",
      " [ 2 -3  4  1]]\n",
      "\n",
      "---\n",
      "a R1 & R2:\n",
      "[[ 0  1  3  4]\n",
      " [-1  2  0  3]]\n",
      "===\n",
      "a R1 <-> R2:\n",
      "[[-1  2  0  3]\n",
      " [ 0  1  3  4]\n",
      " [ 2 -3  4  1]]\n"
     ]
    }
   ],
   "source": [
    "a = np.array([0, 1, 3, 4, -1, 2, 0, 3, 2, -3, 4, 1]).reshape(3, 4)\n",
    "print(f\"a:\\n{a}\")\n",
    "print(\"\\n---\")\n",
    "print(f\"a R1 & R2:\\n{a[[0, 1]]}\")\n",
    "a[[0, 1]] = a[[1, 0]] # A Swap R1 <-> R2\n",
    "print(\"===\")\n",
    "print(f\"a R1 <-> R2:\\n{a}\")"
   ]
  },
  {
   "cell_type": "code",
   "execution_count": 29,
   "metadata": {},
   "outputs": [
    {
     "name": "stdout",
     "output_type": "stream",
     "text": [
      "b:\n",
      "[[ 2 -4  6 -2]\n",
      " [ 1  3 -3  0]\n",
      " [ 5 -2  1  2]]\n",
      "\n",
      "---\n",
      "b (1/2)R1:\n",
      "[[ 1. -2.  3. -1.]]\n",
      "===\n",
      "b (1/2)R1 -> R1:\n",
      "[[ 1 -2  3 -1]\n",
      " [ 1  3 -3  0]\n",
      " [ 5 -2  1  2]]\n"
     ]
    }
   ],
   "source": [
    "b = np.array([\n",
    "    [2, -4, 6, -2],\n",
    "    [1, 3, -3, 0],\n",
    "    [5, -2, 1, 2]\n",
    "])\n",
    "print(f\"b:\\n{b}\")\n",
    "print(\"\\n---\")\n",
    "print(f\"b (1/2)R1:\\n{b[[0]] * (1/2)}\") \n",
    "print(\"===\")\n",
    "b[[0]] = b[[0]] * (1/2) # B method (1/2)R1 -> R1\n",
    "print(f\"b (1/2)R1 -> R1:\\n{b}\")"
   ]
  },
  {
   "cell_type": "code",
   "execution_count": 37,
   "metadata": {},
   "outputs": [
    {
     "name": "stdout",
     "output_type": "stream",
     "text": [
      "c:\n",
      "[[ 1  2 -4  3]\n",
      " [ 0  3 -2 -1]\n",
      " [ 2  1  5 -2]]\n",
      "\n",
      "---\n",
      "c (-2)R1:\n",
      "[[-2 -4  8 -6]]\n",
      "===\n",
      "c R3 + (-2)R1 -> R3:\n",
      "[[ 1  2 -4  3]\n",
      " [ 0  3 -2 -1]\n",
      " [ 2  2  3  0]]\n"
     ]
    }
   ],
   "source": [
    "c = np.array([\n",
    "    [1, 2, -4, 3],\n",
    "    [0, 3, -2, -1],\n",
    "    [2, 1, 5, -2]\n",
    "])\n",
    "print(f\"c:\\n{c}\")\n",
    "print(\"\\n---\")\n",
    "print(f\"c (-2)R1:\\n{c[[0]] * -2}\")\n",
    "print(\"===\")\n",
    "c[[2]] = c[[2]] + c[[0]] * (1/2) # C method R3 + (-2)R1 -> R3\n",
    "print(f\"c R3 + (-2)R1 -> R3:\\n{c}\")"
   ]
  },
  {
   "cell_type": "markdown",
   "metadata": {},
   "source": [
    "## Page 20\n",
    "Using Elementary Row Operations to Solve a System"
   ]
  },
  {
   "cell_type": "code",
   "execution_count": 7,
   "metadata": {},
   "outputs": [],
   "source": [
    "import numpy as np"
   ]
  },
  {
   "cell_type": "code",
   "execution_count": 67,
   "metadata": {},
   "outputs": [
    {
     "name": "stdout",
     "output_type": "stream",
     "text": [
      "aam:\n",
      "[[ 1 -2  3  9]\n",
      " [-1  3  0 -4]\n",
      " [ 2 -5  5 17]]\n",
      "\n",
      "result ordered:\n",
      " [[ 1 -2  3]\n",
      " [ 0  1  3]\n",
      " [ 0  0  1]] \n",
      " [[9]\n",
      " [5]\n",
      " [2]]\n",
      "--j\n",
      "[[ 1 -2  6]\n",
      " [ 0  1  6]\n",
      " [ 0  0  2]]\n",
      "--j\n",
      "[[ 1  2  6]\n",
      " [ 0 -1  6]\n",
      " [ 0  0  2]]\n",
      "--j\n",
      "[[ 1  2  6]\n",
      " [ 0 -1  6]\n",
      " [ 0  0  2]]\n",
      "[ 1 -1  2]\n"
     ]
    }
   ],
   "source": [
    "aam = np.array([\n",
    "    [1, -2, 3, 9],\n",
    "    [-1, 3, 0, -4],\n",
    "    [2, -5, 5, 17]\n",
    "])\n",
    "print(f\"aam:\\n{aam}\\n\")\n",
    "\n",
    "display_text = False\n",
    "\n",
    "aam[[1]] = aam[[1]] + aam[[0]]\n",
    "# print(f\"aam R2 + R1 -> R2:\\n{aam}\\n\" * display_text)\n",
    "\n",
    "aam[[2]] = aam[[2]] + (-2 * aam[[0]])\n",
    "# print(f\"aam R3 + (-2)R1 -> R3:\\n{aam}\\n\" * display_text)\n",
    "\n",
    "aam[[2]] = aam[[2]] + aam[[1]]\n",
    "# print(f\"aam R3 + R2 -> R3:\\n{aam}\\n\" * display_text)\n",
    "\n",
    "aam[[2]] = aam[[2]] * (1/2)\n",
    "# print(f\"aam (1/2)R3 -> R3:\\n{aam}\\n\" * display_text)\n",
    "\n",
    "aam_m, aam_n = np.split(aam, [3], axis=1)\n",
    "print(\"result ordered:\\n\", aam_m, \"\\n\", aam_n)\n",
    "\n",
    "aam_cram = aam_m.copy()\n",
    "aam_i = aam_n.flatten()\n",
    "\n",
    "aam_result = np.zeros(aam_cram.shape[1], dtype=int)\n",
    "for i in range(aam_cram.shape[1] - 1, -1, -1):\n",
    "    print('--j')\n",
    "    aam_result[i] = aam_i[i] - np.sum(aam_cram[i, i+1:])\n",
    "    aam_cram[:, i] = aam_cram[:, i] * aam_result[i]\n",
    "    print(aam_cram)\n",
    "\n",
    "print(aam_result)\n"
   ]
  },
  {
   "cell_type": "code",
   "execution_count": null,
   "metadata": {},
   "outputs": [],
   "source": [
    "\n",
    "\n",
    "\n",
    "aam_result = np.zeros(aam_cram.shape[1], dtype=int)\n",
    "for i in range(aam_cram.shape[1] - 1, -1, -1):\n",
    "    print('--j')\n",
    "    aam_result[i] = aam_i[i] - np.sum(aam_cram[i, i+1:])\n",
    "    aam_cram[:, i] = aam_cram[:, i] * aam_result[i]\n",
    "    print(aam_cram)\n",
    "\n",
    "print(aam_result)"
   ]
  }
 ],
 "metadata": {
  "kernelspec": {
   "display_name": "Python 3",
   "language": "python",
   "name": "python3"
  },
  "language_info": {
   "codemirror_mode": {
    "name": "ipython",
    "version": 3
   },
   "file_extension": ".py",
   "mimetype": "text/x-python",
   "name": "python",
   "nbconvert_exporter": "python",
   "pygments_lexer": "ipython3",
   "version": "3.12.1"
  }
 },
 "nbformat": 4,
 "nbformat_minor": 2
}
