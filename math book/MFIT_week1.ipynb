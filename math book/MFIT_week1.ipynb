{
 "cells": [
  {
   "cell_type": "markdown",
   "metadata": {},
   "source": [
    "# Matrices\n",
    "Outline\n",
    "- Definition of a Matrix\n",
    "- Matrix Addition\n",
    "- Scalar Multiplication\n",
    "- Matrix Multiplication\n",
    "- The Transpose of a Matrix\n",
    "\n",
    "*better use with slides PDF*\n",
    "\n",
    "we calculate for this MFIT using **numpy**"
   ]
  },
  {
   "cell_type": "code",
   "execution_count": 15,
   "metadata": {},
   "outputs": [],
   "source": [
    "import numpy as np\n",
    "import math"
   ]
  },
  {
   "cell_type": "markdown",
   "metadata": {},
   "source": [
    "## Definition of a Matrix"
   ]
  },
  {
   "cell_type": "markdown",
   "metadata": {},
   "source": [
    "Each matrix has the indicated size"
   ]
  },
  {
   "cell_type": "markdown",
   "metadata": {},
   "source": [
    "Size: $1 \\times 1$"
   ]
  },
  {
   "cell_type": "code",
   "execution_count": 16,
   "metadata": {},
   "outputs": [
    {
     "name": "stdout",
     "output_type": "stream",
     "text": [
      "(a) Size: 1*1: (1,)\n"
     ]
    }
   ],
   "source": [
    "a = np.array([1])\n",
    "print(\"(a) Size: 1*1:\", a.shape)"
   ]
  },
  {
   "cell_type": "markdown",
   "metadata": {},
   "source": [
    "Size: $2 \\times 2$"
   ]
  },
  {
   "cell_type": "code",
   "execution_count": 17,
   "metadata": {},
   "outputs": [
    {
     "name": "stdout",
     "output_type": "stream",
     "text": [
      "(b) Size: 2*2: (2, 2)\n"
     ]
    }
   ],
   "source": [
    "b = np.array([\n",
    "    [0, 0],\n",
    "    [0, 0]\n",
    "])\n",
    "print(\"(b) Size: 2*2:\", b.shape)"
   ]
  },
  {
   "cell_type": "markdown",
   "metadata": {},
   "source": [
    "Size: $1 \\times 4$"
   ]
  },
  {
   "cell_type": "code",
   "execution_count": 18,
   "metadata": {},
   "outputs": [
    {
     "name": "stdout",
     "output_type": "stream",
     "text": [
      "(c) Size: 3*3: (1, 4)\n"
     ]
    }
   ],
   "source": [
    "c = np.array([\n",
    "    [1, -3, 0, 1/2]\n",
    "])\n",
    "print(\"(c) Size: 3*3:\", c.shape)"
   ]
  },
  {
   "cell_type": "markdown",
   "metadata": {},
   "source": [
    "Size: $3 \\times 2$\n",
    "\n",
    "You can contain any math expression here. but don't worry here much"
   ]
  },
  {
   "cell_type": "code",
   "execution_count": 19,
   "metadata": {},
   "outputs": [
    {
     "name": "stdout",
     "output_type": "stream",
     "text": [
      "(d) Size: 3*2: (3, 2)\n"
     ]
    }
   ],
   "source": [
    "d = np.array([\n",
    "    [math.e, math.pi],\n",
    "    [2, math.sqrt(2)],\n",
    "    [-7, 4]\n",
    "])\n",
    "print(\"(d) Size: 3*2:\", d.shape)"
   ]
  },
  {
   "cell_type": "markdown",
   "metadata": {},
   "source": [
    "We will get:\n",
    "$\n",
    "\\begin{bmatrix}\n",
    "e & \\pi \\\\\n",
    "2 & \\sqrt{2} \\\\\n",
    "-7 & 4 \n",
    "\\end{bmatrix}\n",
    "$\n",
    "\n",
    "is $3 \\times 2$"
   ]
  },
  {
   "cell_type": "markdown",
   "metadata": {},
   "source": [
    "## Operator with Matrices\n",
    "\n",
    "- Matrix Addition\n",
    "- Scalar Multiplication\n",
    "- Matrix Multiplication\n",
    "- The Transpose of a Matrix"
   ]
  },
  {
   "cell_type": "markdown",
   "metadata": {},
   "source": [
    "### Matrix Addition\n"
   ]
  },
  {
   "cell_type": "code",
   "execution_count": 25,
   "metadata": {},
   "outputs": [
    {
     "name": "stdout",
     "output_type": "stream",
     "text": [
      "[[ 0  5]\n",
      " [-1  3]]\n"
     ]
    }
   ],
   "source": [
    "# (a)\n",
    "print(\n",
    "np.array([\n",
    "    [-1, 2],\n",
    "    [0, 1]\n",
    "])\n",
    "+\n",
    "np.array([\n",
    "    [1, 3],\n",
    "    [-1, 2]\n",
    "])\n",
    ")"
   ]
  },
  {
   "cell_type": "code",
   "execution_count": 26,
   "metadata": {},
   "outputs": [
    {
     "name": "stdout",
     "output_type": "stream",
     "text": [
      "[[ 0  1 -2]\n",
      " [ 1  2  3]]\n"
     ]
    }
   ],
   "source": [
    "# (b)\n",
    "# with save in variables\n",
    "a = np.array([\n",
    "    [0, 1, -2],\n",
    "    [1, 2, 3]\n",
    "])\n",
    "b = np.array([\n",
    "    [0, 0, 0],\n",
    "    [0, 0, 0],\n",
    "])\n",
    "print(a + b)"
   ]
  },
  {
   "cell_type": "code",
   "execution_count": 27,
   "metadata": {},
   "outputs": [
    {
     "name": "stdout",
     "output_type": "stream",
     "text": [
      "[[0]\n",
      " [0]\n",
      " [0]]\n"
     ]
    }
   ],
   "source": [
    "# (c)\n",
    "a = np.array([\n",
    "    [1],\n",
    "    [-3],\n",
    "    [-2]\n",
    "])\n",
    "b = np.array([\n",
    "    [-1],\n",
    "    [3],\n",
    "    [2]\n",
    "])\n",
    "print(a + b)"
   ]
  },
  {
   "cell_type": "code",
   "execution_count": 52,
   "metadata": {},
   "outputs": [
    {
     "name": "stdout",
     "output_type": "stream",
     "text": [
      "ERROR!: operands could not be broadcast together with shapes (3,3) (3,2) \n"
     ]
    }
   ],
   "source": [
    "# (d)\n",
    "a = np.array([\n",
    "    [2, 1, 0],\n",
    "    [4, 0, -1],\n",
    "    [3, -2, 2],\n",
    "])\n",
    "b = np.array([\n",
    "    [0, 1],\n",
    "    [-1, 3],\n",
    "    [2, 4],\n",
    "])\n",
    "try:\n",
    "    print(a + b)\n",
    "except ValueError as e:\n",
    "    print(\"ERROR!:\",e)"
   ]
  },
  {
   "cell_type": "markdown",
   "metadata": {},
   "source": [
    "Error because \"a\" can't addition with \"b\""
   ]
  },
  {
   "cell_type": "markdown",
   "metadata": {},
   "source": [
    "### Scalar Multiplication"
   ]
  },
  {
   "cell_type": "code",
   "execution_count": 29,
   "metadata": {},
   "outputs": [],
   "source": [
    "A = np.array([\n",
    "    [1, 2, 4],\n",
    "    [-3, 0, -1],\n",
    "    [2, 1, 2]\n",
    "])\n",
    "\n",
    "B = np.array([\n",
    "    [2, 0, 0],\n",
    "    [1, -4, 3],\n",
    "    [-1, 3, 2]\n",
    "])"
   ]
  },
  {
   "cell_type": "markdown",
   "metadata": {},
   "source": [
    "In \"numpy\" you can use it easily"
   ]
  },
  {
   "cell_type": "code",
   "execution_count": 32,
   "metadata": {},
   "outputs": [
    {
     "name": "stdout",
     "output_type": "stream",
     "text": [
      "3A - B:\n",
      " [[  1   6  12]\n",
      " [-10   4  -6]\n",
      " [  7   0   4]]\n"
     ]
    }
   ],
   "source": [
    "# 3A - B:\n",
    "print(\"3A - B:\\n\", 3*A - B)"
   ]
  },
  {
   "cell_type": "markdown",
   "metadata": {},
   "source": [
    "$3A - B = 3A + (-B)$"
   ]
  },
  {
   "cell_type": "markdown",
   "metadata": {},
   "source": [
    "If we try to separate it out"
   ]
  },
  {
   "cell_type": "code",
   "execution_count": 48,
   "metadata": {},
   "outputs": [
    {
     "name": "stdout",
     "output_type": "stream",
     "text": [
      "3A:\n",
      " [[ 3  6 12]\n",
      " [-9  0 -3]\n",
      " [ 6  3  6]]\n",
      "\n",
      "-B:\n",
      " [[-2  0  0]\n",
      " [-1  4 -3]\n",
      " [ 1 -3 -2]]\n",
      "\n",
      "3A + (-B):\n",
      " [[  1   6  12]\n",
      " [-10   4  -6]\n",
      " [  7   0   4]]\n"
     ]
    }
   ],
   "source": [
    "# 3A\n",
    "c1 = 3*A\n",
    "print(\"3A:\\n\", c1)\n",
    "\n",
    "# -B\n",
    "c2 = -B\n",
    "print(\"\\n-B:\\n\", c2)\n",
    "\n",
    "# 3A - B\n",
    "print(\"\\n3A + (-B):\\n\", c1 + c2)"
   ]
  },
  {
   "cell_type": "markdown",
   "metadata": {},
   "source": [
    "Compare between 1 & 2"
   ]
  },
  {
   "cell_type": "code",
   "execution_count": 50,
   "metadata": {},
   "outputs": [
    {
     "name": "stdout",
     "output_type": "stream",
     "text": [
      "3A - B:\n",
      " [[  1   6  12]\n",
      " [-10   4  -6]\n",
      " [  7   0   4]]\n",
      "\n",
      "3A + (-B):\n",
      " [[  1   6  12]\n",
      " [-10   4  -6]\n",
      " [  7   0   4]]\n",
      "\n",
      "3A - B == 3A + (-B):\n",
      " [[ True  True  True]\n",
      " [ True  True  True]\n",
      " [ True  True  True]]\n"
     ]
    }
   ],
   "source": [
    "print(\"3A - B:\\n\", 3*A - B)\n",
    "print(\"\\n3A + (-B):\\n\", c1 + c2)\n",
    "\n",
    "print(\"\\n3A - B == 3A + (-B):\\n\", 3*A - B == c1 + c2)"
   ]
  },
  {
   "cell_type": "markdown",
   "metadata": {},
   "source": [
    "### Matrix Multiplication"
   ]
  },
  {
   "cell_type": "code",
   "execution_count": 55,
   "metadata": {},
   "outputs": [],
   "source": [
    "A = np.array([\n",
    "    [-1, 3],\n",
    "    [4, -2],\n",
    "    [5, 0]\n",
    "])\n",
    "B = np.array([\n",
    "    [-3, 2],\n",
    "    [-4, 1]\n",
    "])"
   ]
  },
  {
   "cell_type": "markdown",
   "metadata": {},
   "source": [
    "I \"numpy\" we can use Matrix Multiplication by using \"dot\"\n",
    "\n",
    "    \n",
    "    "
   ]
  },
  {
   "cell_type": "code",
   "execution_count": 59,
   "metadata": {},
   "outputs": [
    {
     "name": "stdout",
     "output_type": "stream",
     "text": [
      "[[ -9   1]\n",
      " [ -4   6]\n",
      " [-15  10]]\n"
     ]
    }
   ],
   "source": [
    "print(np.dot(A, B))"
   ]
  },
  {
   "cell_type": "markdown",
   "metadata": {},
   "source": [
    "or simplify to @\n",
    "\n",
    "$A \\times B = A @ B$"
   ]
  },
  {
   "cell_type": "code",
   "execution_count": 57,
   "metadata": {},
   "outputs": [
    {
     "name": "stdout",
     "output_type": "stream",
     "text": [
      "[[ -9   1]\n",
      " [ -4   6]\n",
      " [-15  10]]\n"
     ]
    }
   ],
   "source": [
    "print(A @ B)"
   ]
  },
  {
   "cell_type": "markdown",
   "metadata": {},
   "source": [
    "1. check if both matrix can make\n",
    "**Matrix Multiplication**\n",
    "\n",
    "columns A = rows B"
   ]
  },
  {
   "cell_type": "code",
   "execution_count": 62,
   "metadata": {},
   "outputs": [
    {
     "name": "stdout",
     "output_type": "stream",
     "text": [
      "(3, 2) (2, 2)\n",
      "True\n"
     ]
    }
   ],
   "source": [
    "print(A.shape, B.shape)\n",
    "print(A.shape[1] == B.shape[0])"
   ]
  },
  {
   "cell_type": "markdown",
   "metadata": {},
   "source": [
    "2. then will product to original or new size of Matrix\n",
    "\n",
    "rows A $\\times$ columns B \n",
    "or (A, B)"
   ]
  },
  {
   "cell_type": "code",
   "execution_count": 66,
   "metadata": {},
   "outputs": [
    {
     "name": "stdout",
     "output_type": "stream",
     "text": [
      "(3, 2) (2, 2)\n",
      "Size:  3 * 2\n",
      "(3, 2)\n"
     ]
    }
   ],
   "source": [
    "print(A.shape, B.shape)\n",
    "print(\"Size: \", A.shape[0], \"*\", B.shape[1])\n",
    "print((A @ B).shape)"
   ]
  },
  {
   "cell_type": "code",
   "execution_count": null,
   "metadata": {},
   "outputs": [],
   "source": []
  }
 ],
 "metadata": {
  "kernelspec": {
   "display_name": "Python 3",
   "language": "python",
   "name": "python3"
  },
  "language_info": {
   "codemirror_mode": {
    "name": "ipython",
    "version": 3
   },
   "file_extension": ".py",
   "mimetype": "text/x-python",
   "name": "python",
   "nbconvert_exporter": "python",
   "pygments_lexer": "ipython3",
   "version": "3.12.1"
  }
 },
 "nbformat": 4,
 "nbformat_minor": 2
}
